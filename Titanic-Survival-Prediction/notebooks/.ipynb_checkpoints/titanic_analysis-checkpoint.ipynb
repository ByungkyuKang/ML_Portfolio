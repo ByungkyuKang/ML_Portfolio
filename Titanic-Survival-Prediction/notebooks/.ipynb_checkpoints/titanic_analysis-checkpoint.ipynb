{
 "cells": [
  {
   "cell_type": "code",
   "execution_count": 276,
   "id": "b30b802e-7138-44f7-b3b0-3d760cd45cf0",
   "metadata": {},
   "outputs": [
    {
     "name": "stdout",
     "output_type": "stream",
     "text": [
      "(1309, 14)\n"
     ]
    },
    {
     "data": {
      "text/html": [
       "<div>\n",
       "<style scoped>\n",
       "    .dataframe tbody tr th:only-of-type {\n",
       "        vertical-align: middle;\n",
       "    }\n",
       "\n",
       "    .dataframe tbody tr th {\n",
       "        vertical-align: top;\n",
       "    }\n",
       "\n",
       "    .dataframe thead th {\n",
       "        text-align: right;\n",
       "    }\n",
       "</style>\n",
       "<table border=\"1\" class=\"dataframe\">\n",
       "  <thead>\n",
       "    <tr style=\"text-align: right;\">\n",
       "      <th></th>\n",
       "      <th>pclass</th>\n",
       "      <th>survived</th>\n",
       "      <th>name</th>\n",
       "      <th>sex</th>\n",
       "      <th>age</th>\n",
       "      <th>sibsp</th>\n",
       "      <th>parch</th>\n",
       "      <th>ticket</th>\n",
       "      <th>fare</th>\n",
       "      <th>cabin</th>\n",
       "      <th>embarked</th>\n",
       "      <th>boat</th>\n",
       "      <th>body</th>\n",
       "      <th>home.dest</th>\n",
       "    </tr>\n",
       "  </thead>\n",
       "  <tbody>\n",
       "    <tr>\n",
       "      <th>0</th>\n",
       "      <td>1</td>\n",
       "      <td>1</td>\n",
       "      <td>Allen, Miss. Elisabeth Walton</td>\n",
       "      <td>female</td>\n",
       "      <td>29.0000</td>\n",
       "      <td>0</td>\n",
       "      <td>0</td>\n",
       "      <td>24160</td>\n",
       "      <td>211.3375</td>\n",
       "      <td>B5</td>\n",
       "      <td>S</td>\n",
       "      <td>2</td>\n",
       "      <td>NaN</td>\n",
       "      <td>St Louis, MO</td>\n",
       "    </tr>\n",
       "    <tr>\n",
       "      <th>1</th>\n",
       "      <td>1</td>\n",
       "      <td>1</td>\n",
       "      <td>Allison, Master. Hudson Trevor</td>\n",
       "      <td>male</td>\n",
       "      <td>0.9167</td>\n",
       "      <td>1</td>\n",
       "      <td>2</td>\n",
       "      <td>113781</td>\n",
       "      <td>151.5500</td>\n",
       "      <td>C22 C26</td>\n",
       "      <td>S</td>\n",
       "      <td>11</td>\n",
       "      <td>NaN</td>\n",
       "      <td>Montreal, PQ / Chesterville, ON</td>\n",
       "    </tr>\n",
       "    <tr>\n",
       "      <th>2</th>\n",
       "      <td>1</td>\n",
       "      <td>0</td>\n",
       "      <td>Allison, Miss. Helen Loraine</td>\n",
       "      <td>female</td>\n",
       "      <td>2.0000</td>\n",
       "      <td>1</td>\n",
       "      <td>2</td>\n",
       "      <td>113781</td>\n",
       "      <td>151.5500</td>\n",
       "      <td>C22 C26</td>\n",
       "      <td>S</td>\n",
       "      <td>NaN</td>\n",
       "      <td>NaN</td>\n",
       "      <td>Montreal, PQ / Chesterville, ON</td>\n",
       "    </tr>\n",
       "    <tr>\n",
       "      <th>3</th>\n",
       "      <td>1</td>\n",
       "      <td>0</td>\n",
       "      <td>Allison, Mr. Hudson Joshua Creighton</td>\n",
       "      <td>male</td>\n",
       "      <td>30.0000</td>\n",
       "      <td>1</td>\n",
       "      <td>2</td>\n",
       "      <td>113781</td>\n",
       "      <td>151.5500</td>\n",
       "      <td>C22 C26</td>\n",
       "      <td>S</td>\n",
       "      <td>NaN</td>\n",
       "      <td>135.0</td>\n",
       "      <td>Montreal, PQ / Chesterville, ON</td>\n",
       "    </tr>\n",
       "    <tr>\n",
       "      <th>4</th>\n",
       "      <td>1</td>\n",
       "      <td>0</td>\n",
       "      <td>Allison, Mrs. Hudson J C (Bessie Waldo Daniels)</td>\n",
       "      <td>female</td>\n",
       "      <td>25.0000</td>\n",
       "      <td>1</td>\n",
       "      <td>2</td>\n",
       "      <td>113781</td>\n",
       "      <td>151.5500</td>\n",
       "      <td>C22 C26</td>\n",
       "      <td>S</td>\n",
       "      <td>NaN</td>\n",
       "      <td>NaN</td>\n",
       "      <td>Montreal, PQ / Chesterville, ON</td>\n",
       "    </tr>\n",
       "  </tbody>\n",
       "</table>\n",
       "</div>"
      ],
      "text/plain": [
       "   pclass survived                                             name     sex  \\\n",
       "0       1        1                    Allen, Miss. Elisabeth Walton  female   \n",
       "1       1        1                   Allison, Master. Hudson Trevor    male   \n",
       "2       1        0                     Allison, Miss. Helen Loraine  female   \n",
       "3       1        0             Allison, Mr. Hudson Joshua Creighton    male   \n",
       "4       1        0  Allison, Mrs. Hudson J C (Bessie Waldo Daniels)  female   \n",
       "\n",
       "       age  sibsp  parch  ticket      fare    cabin embarked boat   body  \\\n",
       "0  29.0000      0      0   24160  211.3375       B5        S    2    NaN   \n",
       "1   0.9167      1      2  113781  151.5500  C22 C26        S   11    NaN   \n",
       "2   2.0000      1      2  113781  151.5500  C22 C26        S  NaN    NaN   \n",
       "3  30.0000      1      2  113781  151.5500  C22 C26        S  NaN  135.0   \n",
       "4  25.0000      1      2  113781  151.5500  C22 C26        S  NaN    NaN   \n",
       "\n",
       "                         home.dest  \n",
       "0                     St Louis, MO  \n",
       "1  Montreal, PQ / Chesterville, ON  \n",
       "2  Montreal, PQ / Chesterville, ON  \n",
       "3  Montreal, PQ / Chesterville, ON  \n",
       "4  Montreal, PQ / Chesterville, ON  "
      ]
     },
     "execution_count": 276,
     "metadata": {},
     "output_type": "execute_result"
    }
   ],
   "source": [
    "from sklearn.datasets import fetch_openml\n",
    "import pandas as pd\n",
    "\n",
    "# Loading titanic data\n",
    "titanic = fetch_openml('titanic', version=1, as_frame=True)\n",
    "df = titanic.frame\n",
    "\n",
    "print(df.shape)\n",
    "df.head()"
   ]
  },
  {
   "cell_type": "code",
   "execution_count": 277,
   "id": "8a903b80-fbe6-42d7-a0f8-361856d2aca2",
   "metadata": {},
   "outputs": [
    {
     "name": "stdout",
     "output_type": "stream",
     "text": [
      "pclass        0\n",
      "sex           0\n",
      "age         263\n",
      "sibsp         0\n",
      "parch         0\n",
      "fare          1\n",
      "embarked      2\n",
      "survived      0\n",
      "dtype: int64\n",
      "29.8811345124283\n",
      "Index([  15,   37,   40,   46,   59,   69,   70,   74,   80,  106,\n",
      "       ...\n",
      "       1282, 1283, 1284, 1291, 1292, 1293, 1297, 1302, 1303, 1305],\n",
      "      dtype='int64', length=263)\n"
     ]
    }
   ],
   "source": [
    "df = df[ ['pclass', 'sex', 'age', 'sibsp', 'parch', 'fare', 'embarked', 'survived'] ]\n",
    "aaa = df['age'].isna()\n",
    "\n",
    "print(df.isnull().sum())\n",
    "print(df['age'].mean())\n",
    "print(df.loc[aaa].index)"
   ]
  },
  {
   "cell_type": "code",
   "execution_count": 278,
   "id": "a73885b6-6dae-4741-9bb0-30b8d328fb4d",
   "metadata": {},
   "outputs": [
    {
     "name": "stdout",
     "output_type": "stream",
     "text": [
      "No missing age exists.\n"
     ]
    }
   ],
   "source": [
    "# Getting mean values of each pclass\n",
    "mean_ages_by_pclass = df.groupby('pclass')['age'].transform('mean').round()\n",
    "\n",
    "# Replacing missing ages with the class-specific mean age.\n",
    "df.loc[:, 'age'] = df['age'].fillna(mean_ages_by_pclass)\n",
    "\n",
    "# Checing if there are still any missing values of age\n",
    "no_of_missing_age = df.loc[:,'age'].isna().sum()\n",
    "if no_of_missing_age == 0:\n",
    "    print(\"No missing age exists.\")\n",
    "elif no_of_missing_age == 1:\n",
    "    print(f\"There is {no_of_missing_age} missing age.\")\n",
    "else:\n",
    "    print(f\"There are {no_of_missing_age} missing ages.\")"
   ]
  },
  {
   "cell_type": "code",
   "execution_count": 273,
   "id": "598660fb-79cd-47f5-a5b7-0eaf4e6cfdef",
   "metadata": {},
   "outputs": [
    {
     "data": {
      "text/plain": [
       "0.5916030534351145"
      ]
     },
     "execution_count": 273,
     "metadata": {},
     "output_type": "execute_result"
    }
   ],
   "source": [
    "# Leaning model to predict survivers by age using Decision Tree. \n",
    "# I expect a single input feature would make this not accuarate\n",
    "from sklearn.tree import DecisionTreeClassifier\n",
    "from sklearn.model_selection import train_test_split\n",
    "from sklearn.metrics import accuracy_score\n",
    "\n",
    "feature_set = df[['age']]\n",
    "label_set = df['survived']\n",
    "\n",
    "# print(feature_set.head())\n",
    "# print(label_set.head())\n",
    "\n",
    "X_train, X_test, y_train, y_test = train_test_split(feature_set, label_set, test_size=0.2, random_state=11)\n",
    "\n",
    "df_dtc = DecisionTreeClassifier(random_state=11)\n",
    "df_dtc.fit(X_train, y_train)\n",
    "pred = df_dtc.predict(X_test)\n",
    "\n",
    "accuracy = accuracy_score(y_test, pred)\n",
    "accuracy"
   ]
  },
  {
   "cell_type": "code",
   "execution_count": 272,
   "id": "d7a71b8f-8400-4fe6-af5d-ac8cb1e82925",
   "metadata": {},
   "outputs": [
    {
     "data": {
      "text/plain": [
       "0.7786259541984732"
      ]
     },
     "execution_count": 272,
     "metadata": {},
     "output_type": "execute_result"
    }
   ],
   "source": [
    "# Leaning model to predict survivers by age, pclass, sex using Decision Tree. \n",
    "# I expect a single input feature would make this not accuarate\n",
    "from sklearn.tree import DecisionTreeClassifier\n",
    "from sklearn.model_selection import train_test_split\n",
    "from sklearn.metrics import accuracy_score\n",
    "\n",
    "df.loc[:, 'numed_sex'] = df.loc[:,'sex'].map(lambda x: 0 if x=='male' else 1).astype('int')\n",
    "    \n",
    "feature_set = df[['age', 'pclass', 'numed_sex']]\n",
    "label_set = df['survived']\n",
    "\n",
    "X_train, X_test, y_train, y_test = train_test_split(feature_set, label_set, test_size=0.2, random_state=11)\n",
    "\n",
    "df_dtc = DecisionTreeClassifier(random_state=11)\n",
    "df_dtc.fit(X_train, y_train)\n",
    "pred = df_dtc.predict(X_test)\n",
    "\n",
    "accuracy = accuracy_score(y_test, pred)\n",
    "accuracy"
   ]
  },
  {
   "cell_type": "code",
   "execution_count": 287,
   "id": "bc510e3b-886a-41cc-a3b4-10a21053d1c3",
   "metadata": {},
   "outputs": [
    {
     "name": "stdout",
     "output_type": "stream",
     "text": [
      "Accuracy with KFold(n_split=5): 0.774\n"
     ]
    }
   ],
   "source": [
    "# with KFold (n_split=7)\n",
    "from sklearn.model_selection import KFold\n",
    "import numpy as np\n",
    "\n",
    "df.loc[:, 'numed_sex'] = df.loc[:,'sex'].map(lambda x: 0 if x=='male' else 1).astype('int')\n",
    "    \n",
    "feature_set = df[['age', 'pclass', 'numed_sex']]\n",
    "label_set = df['survived']\n",
    "\n",
    "kfold = KFold(n_splits=7)\n",
    "\n",
    "acc_cv = []\n",
    "for tr_index, te_index in kfold.split(feature_set):\n",
    "    X_train, X_test = feature_set.loc[tr_index], feature_set.loc[te_index]\n",
    "    y_train, y_test = label_set.loc[tr_index], label_set.loc[te_index]\n",
    "\n",
    "    df_dtc = DecisionTreeClassifier(random_state=2)\n",
    "    df_dtc.fit(X_train, y_train)\n",
    "    pred = df_dtc.predict(X_test)\n",
    "\n",
    "    acc_cv.append(np.round(accuracy_score(y_test, pred), 3))\n",
    "\n",
    "print(\"Accuracy with KFold(n_split=5):\", np.mean(acc_cv))"
   ]
  },
  {
   "cell_type": "code",
   "execution_count": null,
   "id": "2c400a7a-d0d8-4347-a75b-c86bf4339423",
   "metadata": {},
   "outputs": [],
   "source": []
  }
 ],
 "metadata": {
  "kernelspec": {
   "display_name": "Python 3 (ipykernel)",
   "language": "python",
   "name": "python3"
  },
  "language_info": {
   "codemirror_mode": {
    "name": "ipython",
    "version": 3
   },
   "file_extension": ".py",
   "mimetype": "text/x-python",
   "name": "python",
   "nbconvert_exporter": "python",
   "pygments_lexer": "ipython3",
   "version": "3.12.6"
  }
 },
 "nbformat": 4,
 "nbformat_minor": 5
}
